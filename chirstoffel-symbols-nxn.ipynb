{
 "cells": [
  {
   "cell_type": "code",
   "execution_count": 6,
   "metadata": {},
   "outputs": [],
   "source": [
    "import sympy as sp\n",
    "import numpy as np"
   ]
  },
  {
   "cell_type": "code",
   "execution_count": 7,
   "metadata": {},
   "outputs": [],
   "source": [
    "def input_metric_tensor(n):\n",
    "    # Get user-defined variable names and create symbols\n",
    "    variables = []\n",
    "    for i in range(n):\n",
    "        variable = input(f\"Enter variable {i + 1} (e.g., x, y, α, β): \")\n",
    "        variables.append(sp.symbols(variable))\n",
    "\n",
    "    # Initialize an empty list to hold the elements of the metric tensor\n",
    "    metric_components = []\n",
    "\n",
    "    # Prompt the user for each component of the n x n metric tensor\n",
    "    print(f\"Enter the components of the {n}x{n} metric tensor g (g_ij):\")\n",
    "    for i in range(n):\n",
    "        for j in range(n):\n",
    "            value = input(f\"g_{i+1}{j+1} (component at row {i+1}, column {j+1}): \")\n",
    "            # Convert the input string into a symbolic expression in terms of the chosen variables\n",
    "            metric_components.append(sp.sympify(value))  # Using sympify to automatically recognize the variables\n",
    "\n",
    "    # Create the n x n metric tensor using the input components\n",
    "    g = sp.Matrix(n, n, metric_components)\n",
    "    return g, variables"
   ]
  },
  {
   "cell_type": "code",
   "execution_count": 8,
   "metadata": {},
   "outputs": [],
   "source": [
    "def calculate_inverse(matrix):\n",
    "    try:\n",
    "        # Attempt to compute the inverse of the matrix\n",
    "        inverse_matrix = matrix.inv()\n",
    "        print(\"The inverse of the matrix g is:\")\n",
    "        sp.pprint(inverse_matrix)\n",
    "        return inverse_matrix\n",
    "    except ValueError as e:\n",
    "        # Catch and print an error if the matrix is singular\n",
    "        print(\"Error: The matrix is singular and cannot be inverted.\")\n",
    "        print(f\"Details: {e}\")\n",
    "        return None"
   ]
  },
  {
   "cell_type": "markdown",
   "metadata": {},
   "source": [
    "## christoffel symbols equations\n",
    "$$\\Gamma^{k}_{ij} = \\frac{1}{2} g^{kl} \\left( \\frac{\\partial g_{jl}}{\\partial x^i} + \\frac{\\partial g_{il}}{\\partial x^j} - \\frac{\\partial g_{ij}}{\\partial x^l} \\right)$$ "
   ]
  },
  {
   "cell_type": "code",
   "execution_count": 9,
   "metadata": {},
   "outputs": [],
   "source": [
    "def calculate_christoffel_symbols(g, g_inv, variables, print_flag=False):\n",
    "    n = g.shape[0]  # Get the size of the tensor\n",
    "\n",
    "    # Create empty matrices for the Christoffel symbols\n",
    "    gamma = [sp.Matrix(n, n, [0] * (n * n)) for _ in range(n)]  # Γ^k_ij\n",
    "    #sp.pprint(gamma)\n",
    "    #sp.pprint(gamma[0])  # Print the first Christoffel symbol for debugging\n",
    "\n",
    "    # Calculate Christoffel symbols\n",
    "    for k in range(n):\n",
    "        for i in range(n):\n",
    "            for j in range(n):\n",
    "                '''\n",
    "                term = sum(sp.diff(g[i, l], variables[j]) + sp.diff(g[j, l], variables[i]) - sp.diff(g[i, j], variables[l]) for l in range(n))\n",
    "\n",
    "                # Assign the formula for the Christoffel symbol\n",
    "                gamma[k][i][j] = sp.Rational(1, 2) * sum(g_inv[k, l] * term for l in range(n))\n",
    "                '''\n",
    "                term = sp.Matrix(n, n, [0] * (n * n))\n",
    "                for l in range(n):\n",
    "                    term[l] = sp.diff(g[i, l], variables[j]) + sp.diff(g[j, l], variables[i]) - sp.diff(g[i, j], variables[l])\n",
    "                # Assign the formula for the Christoffel symbol\n",
    "                gamma[k][i,j] = sp.Rational(1, 2) * sum(g_inv[k, l] * term[l] for l in range(n))\n",
    "                \n",
    "\n",
    "    return gamma"
   ]
  },
  {
   "cell_type": "markdown",
   "metadata": {},
   "source": [
    "## test"
   ]
  },
  {
   "cell_type": "code",
   "execution_count": 10,
   "metadata": {},
   "outputs": [
    {
     "name": "stdout",
     "output_type": "stream",
     "text": [
      "Enter the components of the 2x2 metric tensor g (g_ij):\n",
      "variables:\n",
      "[x, y]\n",
      "\n",
      "g:\n",
      "⎡1  0⎤\n",
      "⎢    ⎥\n",
      "⎣0  y⎦\n",
      "The inverse of the matrix g is:\n",
      "⎡1  0⎤\n",
      "⎢    ⎥\n",
      "⎢   1⎥\n",
      "⎢0  ─⎥\n",
      "⎣   y⎦\n",
      "\n",
      "g_inv:\n",
      "Matrix([[1, 0], [0, 1/y]])\n",
      "\n",
      "Christoffel symbols (Γ^k_ij):\n",
      "Γ^1_ij:\n",
      "⎡0  0⎤\n",
      "⎢    ⎥\n",
      "⎣0  0⎦\n",
      "\n",
      "Γ^2_ij:\n",
      "⎡0   0 ⎤\n",
      "⎢      ⎥\n",
      "⎢    1 ⎥\n",
      "⎢0  ───⎥\n",
      "⎣   2⋅y⎦\n",
      "\n"
     ]
    }
   ],
   "source": [
    "n = 2\n",
    "g, variables = input_metric_tensor(n)\n",
    "print(\"variables:\")\n",
    "sp.pprint(variables)\n",
    "print(\"\\ng:\")\n",
    "sp.pprint(g)\n",
    "\n",
    "#calculate the inverse metric tensor\n",
    "g_inv = calculate_inverse(g)\n",
    "print(\"\\ng_inv:\")\n",
    "print(g_inv)\n",
    "\n",
    "# Calculate the Christoffel symbols\n",
    "if g_inv is not None:\n",
    "    gamma = calculate_christoffel_symbols(g, g_inv, variables, print_flag=True)\n",
    "    \n",
    "    # Print the Christoffel symbols\n",
    "    print(\"\\nChristoffel symbols (Γ^k_ij):\")\n",
    "    for k in range(n):\n",
    "        print(f\"Γ^{k+1}_ij:\")\n",
    "        sp.pprint(gamma[k])\n",
    "        print()\n",
    "else:\n",
    "    print(\"Cannot calculate Christoffel symbols due to singular metric tensor.\")"
   ]
  }
 ],
 "metadata": {
  "kernelspec": {
   "display_name": "Python 3",
   "language": "python",
   "name": "python3"
  },
  "language_info": {
   "codemirror_mode": {
    "name": "ipython",
    "version": 3
   },
   "file_extension": ".py",
   "mimetype": "text/x-python",
   "name": "python",
   "nbconvert_exporter": "python",
   "pygments_lexer": "ipython3",
   "version": "3.10.4"
  }
 },
 "nbformat": 4,
 "nbformat_minor": 2
}
